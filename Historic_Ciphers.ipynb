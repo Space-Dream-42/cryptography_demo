{
 "cells": [
  {
   "cell_type": "markdown",
   "id": "5c93b03d",
   "metadata": {},
   "source": [
    "# Komplexitätsanalyse von vier historischen Chiffren: \n",
    "\n",
    "# Verschiebe Chiffre, Affine Chiffre, Substitutionschiffre, Vigenere Chiffre\n",
    "\n",
    "von Armin Puran Youssef (Matrikelnr 801939) und Nicole Damblon (Matrikelnr 804309)"
   ]
  },
  {
   "cell_type": "markdown",
   "id": "a3d05d1b",
   "metadata": {},
   "source": [
    "## 1. Einleitung\n",
    "\n",
    "Die Projektarbeit untersucht die Komplexität der Verschiebeschiffre, Affinen Chiffre, Substitutionschiffre und der Vigenere Chiffre. Dabei handelt es sich um historische Verschlüsselungsverfahren die mit verschiedenen Techniken der Kryptoanalyse gebrochen werden können. Die Komplexitätsanalyse bezieht sich sowohl auf die Implementierung der Ver- und Entschlüsselungsfunktionen als auch auf die Methoden das Verfahren zu brechen. Das Verfahren zu brechen bedeutet, den Schlüssel zu berechnen, so dass jede weitere Nachricht entschlüsselt werden kann. Die Verschiebechiffre ist mit über 2000 Jahren eine der ältesten bekannten Verschlüsselungsverfahren, bei dem die Buchstaben im Alphabet verschoben werden. Die Affine Chiffre ist eine Weiterentwicklung der Verschiebechiffre und führt zusätzlich zur Addition noch eine Multiplikation ein. Die Substitutionschiffre erzeugt eine Permutationstabelle des Alphabets als Schlüssel und ersetzt jeden Buchstaben gemäß dieser Tabelle. Diese drei Verfahren sind monoalphabetisch, d.h. jeder Buchstabe des Klartextes wird durch ein festes Symbol des Alphabets ersetzt. Die Vigenere Chiffre erweitert diese Idee um die Kryptoanalyse zu erschweren. Sie wurde im Jahr 1585 von Blaise de Vigenere vorgeschlagen, der bereits existierende Konzepte aufgegriffen hat. \n",
    "(Friedrich L. Bauer: Entzifferte Geheimnisse. Methoden und Maximen der Kryptologie. 3., überarbeitete und erweiterte Auflage. Springer, Berlin u. a. 2000, S. 121) Buchstaben des Klartextes werden nun durch verschiedene Symbole des Alphabets gemäß eines Schlüsselwortes ersetzt. \n"
   ]
  },
  {
   "cell_type": "markdown",
   "id": "e98407b0",
   "metadata": {},
   "source": [
    "## 2. Projektziele: Implementation der Chiffren und deren Angriffe\n",
    "\n",
    "Die Komplexitätsanalyse bezieht sich konkret auf die in Python implementierten Chiffren und deren Angriffe. Der praktische Teil des Projektes umfasst die korrekte und effiziente Implementierung der Verschlüsselungs-, Entschlüsselungs- und Angriffsfunktionen der vier oben beschriebenen Chiffren. Als nächstes wird die Implementierung auf ihre Komplexität untersucht. In diesem Rahmen wird der mathematische Aufbau der Ver-und Entschlüsselungsfunktionen eingeführt, so dass deutlich wird warum die spezifischen Attacken in welcher Komplexitätsklasse liegen. "
   ]
  },
  {
   "cell_type": "markdown",
   "id": "ade33d99",
   "metadata": {},
   "source": [
    "## 3. Umsetzung des Projektes: Implementierung und Aufgabenverteilung\n",
    "\n",
    "Das Projekt war zeitlich in zwei Abschnitte gegliedert. Zunächst haben wir die Chiffren implementiert um danach die Fragestellung anhand der Programme untersuchen zu können. Armin Puran Youssef hat die Verschiebe und Vigenere Chiffre programmiert, deren Funktionsweise eng miteinander verwandt ist. Die Affine und Substitutionschiffre hat Nicole Damblon programmiert. Wir haben versucht die Funktionen die von allen Chiffren verwendet werden können, asci_to_int und int_to_asci konsistent zu halten, genau so wie das Auslagern der Testfunktionalität in eine main-Methode. \n",
    "Das Verfassen des Projektberichtes haben wir je nach Schwerpunkt aufgeteilt, wobei wir darauf geachtet haben die Anteile jeweils gleich groß zu gestalten. \n"
   ]
  },
  {
   "cell_type": "markdown",
   "id": "237896e9",
   "metadata": {},
   "source": [
    "## 4. Komplexitätsanalyse\n",
    "\n",
    "\n",
    "Im Hauptteil des Projektes haben wir die vier oben genannten Chiffren implementiert und anhand dessen die Komplexitätsanalyse durchgeführt. Zunächst werden ein paar grundlegende Definitionen eingeführt, die für die spätere Einführung der Ver- und Entschlüsselungsfunktionen gebraucht werden. Jede Chiffre wird in einem eigenen Abschnitt behandelt, der jeweils folgendermaßen aufgebaut ist:\n",
    "1. Kurze Beschreibung der Chiffre\n",
    "2. Ver- und Entschlüsselung\n",
    "3. Auswahl des Schlüssels\n",
    "4. Korrektheit der Chiffre\n",
    "5. Kryptosystem\n",
    "6. Angriffe"
   ]
  },
  {
   "cell_type": "markdown",
   "id": "73c56ba0",
   "metadata": {},
   "source": [
    "Die Kryptographie diskutiert die Eigenschaften von Kryptosysteme die eine mathematische Struktur darstellen. Im folgenden wird defniert was ein Kryptosystem ist.\n",
    "\n",
    "\n",
    "### Definition 1:\n",
    "Ein $Kryptosystem$ ist ein fünfer-Tupel $(P,C,K,e_k,d_k)$ wobei die Komponenten folgendermaßen definiert sind:\n",
    "\n",
    "*   $P$ ist die Menge aller Klartext über ein Alphabet Σ \n",
    "*   $C$ ist die Menge aller Chiffretexte über ein Alphabet Σ\n",
    "*   $K$ ist die Menge aller möglicher Schlüssel\n",
    "*   $e_k$ stellt eine Schar von Verschlüsselungsfunktionen dar. D.h $e_k: P → C$ ist eine Funktion für jeden Schlüssel $k 𝝐 K$\n",
    "*   $d_k$ stellt eine Schar von Verschlüsselungsfunktionen dar. D.h $d_k: C → P$ ist eine Funktion für jeden Schlüssel $k 𝝐 K$\n",
    "\n",
    "Dabei muss für ein $Kryptosystem$ folgendes gelten: $∀k𝝐K.∀x𝝐P. d_k(e_k(x)) = x$\n"
   ]
  },
  {
   "cell_type": "markdown",
   "id": "2b41a3db",
   "metadata": {},
   "source": [
    "Um die Kryptosysteme zu verstehen die in dieser Arbeit vorstellt werden, werden noch die Restklassenringe eingeführt.\n",
    "\n",
    "### Definition 2:\n",
    "$a ≡ b$ $mod$ $n$ $:⟺$ $n | b-a$\n",
    "\n",
    "Bem: $n|b-a$ ist Äquivalent zur Aussage das $b$ und $a$ beim teilen durch $n$ den selben Rest lassen.\n",
    "\n",
    "### Definition 3:\n",
    "$[a] = a+ nℤ :=$ {$b𝝐ℤ$|$ b ≡ a$ $mod$ $n$} ist die Restklasse von $a$ bezüglich modulo $n$\n",
    "\n",
    "Bem: Die Menge aller Restklassen bezüglich modulo $n$ wird  mit $ℤ/nℤ$ bezeichnet. Diese Menge ist endlich, da es bezüglich modulo $n$ es nur $n$ mögliche Reste gibt, die eine Zahl lassen kann.\n",
    "\n",
    "Bem: Die Menge $ℤ_n =$ {$1,...,n-1$} ist die Menge der Standardvertreter für die Restklassen $ℤ/nℤ$.\n",
    "\n",
    "\n"
   ]
  },
  {
   "cell_type": "markdown",
   "id": "2456a3cc",
   "metadata": {},
   "source": [
    "Jetzt müssen wir nur noch zwei Operationen / Abbildungen definieren, damit wir einen Ring erhalten.\n",
    "\n",
    "### Definition 4\n",
    "$+_n:ℤ_n \\times ℤ_n \\rightarrow ℤ_n$ und $\\cdot_n: ℤ_n \\times ℤ_n \\rightarrow ℤ_n$ sind Abbilungen mit folgender Abbildungsvorschrift:\n",
    "$(a,b)\\mapsto a+b$ $mod$ $n$ für $+_n$ und $(a,b)\\mapsto a\\cdot b$ $mod$ $n$ für $\\cdot_n$\n",
    "\n",
    "Der Beweis folgender Sätze ist trivial und wird deswegen ausgelassen.\n",
    "\n",
    "### Satz 1 (o.B):\n",
    "$(ℤ_n, +_n)$ ist eine abelsche Gruppe.\n",
    "\n",
    "### Satz 2 (o.B):\n",
    "$(ℤ_n, \\cdot_n)$ ist eine abelsche Halbgruppe.\n",
    "\n",
    "\n",
    "Aus diesen beiden Sätzen folgt direkt folgender Satz.\n",
    "\n",
    "### Satz 3:\n",
    "$(ℤ_n, +_n, \\cdot_n)$ ist ein Ring"
   ]
  },
  {
   "cell_type": "markdown",
   "id": "07402ebb",
   "metadata": {},
   "source": [
    "## 4.1 Verschiebe / Caesar Chiffre\n",
    "\n",
    "Die Verschiebe Chiffre ist eine sehr einfache Chiffre, da sie mit einer einfachen Brute Force Attacke zu brechen ist. Es ist eine Buchstabenchiffre, wo jeder einzelner Buchstabe mit demselben Schlüssel verschlüsselt wird. Die Verschiebe Chiffre hat sogar eine grafische Visualisierung, den sogenannten Ceasar-Ring:"
   ]
  },
  {
   "cell_type": "markdown",
   "id": "72d31ae5",
   "metadata": {},
   "source": [
    "![title](ringCasargeheimschrift.png)"
   ]
  },
  {
   "cell_type": "markdown",
   "id": "6c90e533",
   "metadata": {},
   "source": [
    "Auf den äußeren Ring sind die Klarbuchstaben und auf den inneren sind die chiffrierten Buchstaben. Dh. A wird zu J verschlüsselt und Z zu I usw. Somit wird ,,HALLO\" zu dem Chiffrat ,,QJUUX\". Der Schlüssel dieses grafischen Kryptosystems ist J weil A auf J abgebildet wird."
   ]
  },
  {
   "cell_type": "markdown",
   "id": "6676ea89",
   "metadata": {},
   "source": [
    "### 4.1.1 Ver- und Entschlüsselung"
   ]
  },
  {
   "cell_type": "markdown",
   "id": "c37a509f",
   "metadata": {},
   "source": [
    "Mathematisch ist der Schlüsselraum $K = ℤ_{128}$. Dabei repräsentiert jedes Element aus $K$ einen Buchstaben aus $\\Sigma$. Wie schon oben erläutert wird der Text Buchstabenweise Verschlüsselt, dh. $e_k(x) = e_k(x_1...x_n) = e_k(x_1)...e_k(x_n)$ für ein Klartext $x𝝐P$, wobei $x_1...x_n$ jeweils Buchstaben aus $\\Sigma$ sind. Somit reicht es aus, $e_k$ und $d_k$ auf Buchstaben zu definieren:\n",
    "\n",
    "Verschlüsselung: Die Buchstaben werden in die korrespondierenden Elemente aus $ℤ_{128}$ umgewandelt und dann wird mit folgender Abbildung verschlüsselt:\n",
    "$e_k: ℤ_{128}\\rightarrow ℤ_{128}$ mit $e_k(x) = x +_n k$\n",
    "Danach wird das resultat wieder in die Buchstaben umgewandelt.\n",
    "\n",
    "Entschlüsselung: Die Buchstaben werden in die korrespondierenden Elemente aus $ℤ_{128}$ umgewandelt und dann wird mit folgender Abbildung entschlüsselt:\n",
    "$d_k: ℤ_{128}\\rightarrow ℤ_{128}$ mit $d_k(x) = x -_n k$\n",
    "Danach wird das Resultat wieder in die Buchstaben umgewandelt."
   ]
  },
  {
   "cell_type": "markdown",
   "id": "8965c88a",
   "metadata": {},
   "source": [
    "Im folgenden sieht man die Ver- und Entschlüsslungsfunktion als Python Code."
   ]
  },
  {
   "cell_type": "code",
   "execution_count": 1,
   "id": "3cde7aca",
   "metadata": {},
   "outputs": [],
   "source": [
    "# Umwandlung von Buchstaben in Zahlen\n",
    "def asci_to_int(text):\n",
    "    l = [ord(i) for i in text]\n",
    "    return l\n",
    "        \n",
    "# Umwandlung von Zahlen in Buchstaben   \n",
    "def int_to_asci(numbers):\n",
    "    l = [chr(i) for i in numbers]\n",
    "    y = ''.join(l)\n",
    "    return y"
   ]
  },
  {
   "cell_type": "code",
   "execution_count": 2,
   "id": "ab701265",
   "metadata": {},
   "outputs": [],
   "source": [
    "# n = |plainText|, m = |key|\n",
    "def encrypt(plainText, key):\n",
    "    \"\"\"\n",
    "        Parameters:\n",
    "            plainText (String): Der zu verschlüsselnde Klartext\n",
    "            key          (int): Der Schlüssel der Verschiebe-Chiffre\n",
    "        Returns:\n",
    "            int_to_asci(chipherText) (string): plainText verschlüsselt\n",
    "    \"\"\"\n",
    "    n = 128  # O(1)\n",
    "    plainText = asci_to_int(plainText) # O(n)\n",
    "    chipherText = [] # O(1)\n",
    "    # O(n)\n",
    "    for l in plainText:\n",
    "        chipherText.append((l + key) % n)\n",
    "    return int_to_asci(chipherText) # O(n)\n",
    "\n",
    "# Somit ist die Zeitkomplexität der Verschlüsselungsfunktion O(n)\n",
    "\n",
    "def decrypt(cipherText, key):\n",
    "    \"\"\"\n",
    "        Parameters:\n",
    "            cipherText (String): Der zu entschlüsselnde Chiffretext\n",
    "            key          (int): Der Schlüssel der Verschiebe-Chiffre\n",
    "        Returns:\n",
    "            int_to_asci(plainText) (string): der entschlüsselte Text\n",
    "    \"\"\"\n",
    "    n = 128 # O(1)\n",
    "    cipherText = asci_to_int(cipherText) # O(n)\n",
    "    plainText = [] # O(1)\n",
    "    # O(n)\n",
    "    for l in cipherText:\n",
    "        plainText.append((l - key) % n)\n",
    "    return int_to_asci(plainText) # O(n)\n",
    "\n",
    "# Somit ist die Zeitkomplexität der Entschlüsselungsfunktion auch O(n)"
   ]
  },
  {
   "cell_type": "markdown",
   "id": "f214bfcd",
   "metadata": {},
   "source": [
    "Hier sehen sie eine kleine interaktive Anwendung, sie können sich einen Schlüssel aussuchen und damit einen beliebigen Text verschlüsseln und wieder entschlüsseln:"
   ]
  },
  {
   "cell_type": "code",
   "execution_count": 3,
   "id": "41b02661",
   "metadata": {},
   "outputs": [
    {
     "name": "stdout",
     "output_type": "stream",
     "text": [
      "znoy&jotuyg{x&igttuz&lr\n",
      "this dinosaur cannot fly\n"
     ]
    }
   ],
   "source": [
    "text = 'this dinosaur cannot fly'\n",
    "cipher = encrypt(text,6)\n",
    "plaintext = decrypt(cipher,6)\n",
    "\n",
    "print(cipher)\n",
    "print(plaintext)"
   ]
  },
  {
   "cell_type": "markdown",
   "id": "ef80102a",
   "metadata": {},
   "source": [
    "### 4.1.2 Auswahl des Schlüssels"
   ]
  },
  {
   "cell_type": "markdown",
   "id": "89677bfa",
   "metadata": {},
   "source": [
    "Sowohl Alice als auch Bob müssen den Schlüssel kennen. Sonst gibt es keine Einschränkungen für die Schlüsselauswahl, da $(ℤ_{128}, +_n)$ eine abelsche Gruppe ist, gibt es für jeden Schlüssel $k𝝐K$ ein inverses $-k$ bzgl. $+_n$."
   ]
  },
  {
   "cell_type": "markdown",
   "id": "a8120183",
   "metadata": {},
   "source": [
    "### 4.1.3 Korrektheit der Chiffre"
   ]
  },
  {
   "cell_type": "markdown",
   "id": "2c3ba1bd",
   "metadata": {},
   "source": [
    "Zeige das gilt: $\\forall x 𝝐 ℤ_{128}.\\forall k𝝐ℤ_{128}. d_k(e_k(x))=x$:\n",
    "\n",
    "Sei $ x,k 𝝐 ℤ_{128}$ bel. dann ist $d_k(e_k(x)) = (x +_n k) -_n k$ = x  (Eigenschaft einer abelschen Gruppe) $q.e.d$"
   ]
  },
  {
   "cell_type": "markdown",
   "id": "bcf62a3f",
   "metadata": {},
   "source": [
    "### 4.1.4 Kryptosystem"
   ]
  },
  {
   "cell_type": "markdown",
   "id": "aef2bad4",
   "metadata": {},
   "source": [
    "Somit ergibt sich für die Verschiebe Chiffre folgendes Kryptosystem:\n",
    "\n",
    "$(P,C,ℤ_{128},e_k,d_k)$ wobei P und C alle Wörter über das Alphabet $\\Sigma =$ ASCII-Zeichensatz sind."
   ]
  },
  {
   "cell_type": "markdown",
   "id": "322720b9",
   "metadata": {},
   "source": [
    "### 4.1.5 Angriffe auf das Kryptosystem"
   ]
  },
  {
   "cell_type": "markdown",
   "id": "de35b0e2",
   "metadata": {},
   "source": [
    "Man kann zwei Angriffe auf eine Verschiebe Chiffre anwenden: Bruteforce und Häufigkeitsanalysen. Wobei Letzteres sehr mächtig ist, für die Einfachheit der Verschlüsselung."
   ]
  },
  {
   "cell_type": "markdown",
   "id": "0ca90a70",
   "metadata": {},
   "source": [
    "### Bruteforce"
   ]
  },
  {
   "cell_type": "markdown",
   "id": "7fac1822",
   "metadata": {},
   "source": [
    "Bei der Bruteforce Attacke gehen wir jeden möglichen Schlüssel durch. Dh. wir probieren alle 128 Schlüssel und gucken, ob bei einem Versuch ein sinnvoller Klartext entstanden ist."
   ]
  },
  {
   "cell_type": "code",
   "execution_count": 4,
   "id": "65a982bd",
   "metadata": {},
   "outputs": [],
   "source": [
    "text = 'this dinosaur cannot fly'\n",
    "cipher = encrypt(text,6)"
   ]
  },
  {
   "cell_type": "code",
   "execution_count": 5,
   "id": "e792c68b",
   "metadata": {},
   "outputs": [
    {
     "name": "stdout",
     "output_type": "stream",
     "text": [
      "znoy&jotuyg{x&igttuz&lr\n",
      "ymnx%instxfzw%hfssty%kq~\n",
      "xlmw$hmrsweyv$gerrsx$jp}\n",
      "wklv#glqrvdxu#fdqqrw#io|\n",
      "vjku\"fkpqucwt\"ecppqv\"hn{\n",
      "uijt!ejoptbvs!dboopu!gmz\n",
      "this dinosaur cannot fly\n",
      "sghr\u001fchmnr`tq\u001fb`mmns\u001fekx\n",
      "rfgq\u001ebglmq_sp\u001ea_llmr\u001edjw\n",
      "qefp\u001dafklp^ro\u001d`^kklq\u001dciv\n",
      "pdeo\u001c`ejko]qn\u001c_]jjkp\u001cbhu\n",
      "ocdn\u001b_dijn\\pm\u001b^\\iijo\u001bagt\n",
      "nbcm\u001a^chim[ol\u001a][hhin\u001a`fs\n",
      "mabl\u0019]bghlZnk\u0019\\Zgghm\u0019_er\n",
      "l`ak\u0018\\afgkYmj\u0018[Yffgl\u0018^dq\n",
      "k_`j\u0017[`efjXli\u0017ZXeefk\u0017]cp\n",
      "j^_i\u0016Z_deiWkh\u0016YWddej\u0016\\bo\n",
      "i]^h\u0015Y^cdhVjg\u0015XVccdi\u0015[an\n",
      "h\\]g\u0014X]bcgUif\u0014WUbbch\u0014Z`m\n",
      "g[\\f\u0013W\\abfThe\u0013VTaabg\u0013Y_l\n",
      "fZ[e\u0012V[`aeSgd\u0012US``af\u0012X^k\n",
      "eYZd\u0011UZ_`dRfc\u0011TR__`e\u0011W]j\n",
      "dXYc\u0010TY^_cQeb\u0010SQ^^_d\u0010V\\i\n",
      "cWXb\u000fSX]^bPda\u000fRP]]^c\u000fU[h\n",
      "bVWa\u000eRW\\]aOc`\u000eQO\\\\]b\u000eTZg\n",
      "SYf[\\ab_\n",
      "`TU_\fPUZ[_Ma^\fOMZZ[`\fRXe\n",
      "_ST^\u000bOTYZ^L`]\u000bNLYYZ_\u000bQWd\n",
      "^RS]\n",
      "NSXY]K_\\\n",
      "MKXXY^\n",
      "PVc\n",
      "]QR\\\tMRWX\\J^[\tLJWWX]\tOUb\n",
      "\\PQLQVW[I]KIVVWNTa\n",
      "[OPZ\u0007KPUVZH\\Y\u0007JHUUV[\u0007MS`\n",
      "ZNOY\u0006JOTUYG[X\u0006IGTTUZ\u0006LR_\n",
      "YMNX\u0005INSTXFZW\u0005HFSSTY\u0005KQ^\n",
      "XLMW\u0004HMRSWEYV\u0004GERRSX\u0004JP]\n",
      "WKLV\u0003GLQRVDXU\u0003FDQQRW\u0003IO\\\n",
      "VJKU\u0002FKPQUCWT\u0002ECPPQV\u0002HN[\n",
      "UIJT\u0001EJOPTBVS\u0001DBOOPU\u0001GMZ\n",
      "THIS\u0000DINOSAUR\u0000CANNOT\u0000FLY\n",
      "SGHRCHMNR@TQB@MMNSEKX\n",
      "RFGQ~BGLMQ?SP~A?LLMR~DJW\n",
      "QEFP}AFKLP>RO}@>KKLQ}CIV\n",
      "PDEO|@EJKO=QN|?=JJKP|BHU\n",
      "OCDN{?DIJN<PM{><IIJO{AGT\n",
      "NBCMz>CHIM;OLz=;HHINz@FS\n",
      "MABLy=BGHL:NKy<:GGHMy?ER\n",
      "L@AKx<AFGK9MJx;9FFGLx>DQ\n",
      "K?@Jw;@EFJ8LIw:8EEFKw=CP\n",
      "J>?Iv:?DEI7KHv97DDEJv<BO\n",
      "I=>Hu9>CDH6JGu86CCDIu;AN\n",
      "H<=Gt8=BCG5IFt75BBCHt:@M\n",
      "G;<Fs7<ABF4HEs64AABGs9?L\n",
      "F:;Er6;@AE3GDr53@@AFr8>K\n",
      "E9:Dq5:?@D2FCq42??@Eq7=J\n",
      "D89Cp49>?C1EBp31>>?Dp6<I\n",
      "C78Bo38=>B0DAo20==>Co5;H\n",
      "B67An27<=A/C@n1/<<=Bn4:G\n",
      "A56@m16;<@.B?m0.;;<Am39F\n",
      "@45?l05:;?-A>l/-::;@l28E\n",
      "?34>k/49:>,@=k.,99:?k17D\n",
      ">23=j.389=+?<j-+889>j06C\n",
      "=12<i-278<*>;i,*778=i/5B\n",
      "<01;h,167;)=:h+)667<h.4A\n",
      ";/0:g+056:(<9g*(556;g-3@\n",
      ":./9f*/459';8f)'445:f,2?\n",
      "9-.8e).348&:7e(&3349e+1>\n",
      "8,-7d(-237%96d'%2238d*0=\n",
      "7+,6c',126$85c&$1127c)/<\n",
      "6*+5b&+015#74b%#0016b(.;\n",
      "5)*4a%*/04\"63a$\"//05a'-:\n",
      "4()3`$)./3!52`#!../4`&,9\n",
      "3'(2_#(-.2 41_\" --.3_%+8\n",
      "2&'1^\"',-1\u001f30^!\u001f,,-2^$*7\n",
      "1%&0]!&+,0\u001e2/] \u001e++,1]#)6\n",
      "0$%/\\ %*+/\u001d1.\\\u001f\u001d**+0\\\"(5\n",
      "/#$.[\u001f$)*.\u001c0-[\u001e\u001c))*/[!'4\n",
      ".\"#-Z\u001e#()-\u001b/,Z\u001d\u001b(().Z &3\n",
      "-!\",Y\u001d\"'(,\u001a.+Y\u001c\u001a''(-Y\u001f%2\n",
      ", !+X\u001c!&'+\u0019-*X\u001b\u0019&&',X\u001e$1\n",
      "+\u001f *W\u001b %&*\u0018,)W\u001a\u0018%%&+W\u001d#0\n",
      "*\u001e\u001f)V\u001a\u001f$%)\u0017+(V\u0019\u0017$$%*V\u001c\"/\n",
      ")\u001d\u001e(U\u0019\u001e#$(\u0016*'U\u0018\u0016##$)U\u001b!.\n",
      "(\u001c\u001d'T\u0018\u001d\"#'\u0015)&T\u0017\u0015\"\"#(T\u001a -\n",
      "'\u001b\u001c&S\u0017\u001c!\"&\u0014(%S\u0016\u0014!!\"'S\u0019\u001f,\n",
      "&\u001a\u001b%R\u0016\u001b !%\u0013'$R\u0015\u0013  !&R\u0018\u001e+\n",
      "%\u0019\u001a$Q\u0015\u001a\u001f $\u0012&#Q\u0014\u0012\u001f\u001f %Q\u0017\u001d*\n",
      "$\u0018\u0019#P\u0014\u0019\u001e\u001f#\u0011%\"P\u0013\u0011\u001e\u001e\u001f$P\u0016\u001c)\n",
      "#\u0017\u0018\"O\u0013\u0018\u001d\u001e\"\u0010$!O\u0012\u0010\u001d\u001d\u001e#O\u0015\u001b(\n",
      "\"\u0016\u0017!N\u0012\u0017\u001c\u001d!\u000f# N\u0011\u000f\u001c\u001c\u001d\"N\u0014\u001a'\n",
      "!\u0015\u0016 M\u0011\u0016\u001b\u001c \u000e\"\u001fM\u0010\u000e\u001b\u001b\u001c!M\u0013\u0019&\n",
      "\u001a\u001a\u001b L\u0012\u0018%\u001b\u001f\n",
      "\u001f\u0013\u0014\u001eK\u000f\u0014\u0019\u001a\u001e\f \u001dK\u000e\f\u0019\u0019\u001a\u001fK\u0011\u0017$\n",
      "\u000b\u0018\u0018\u0019\u001eJ\u0010\u0016#\u001d\u000b\u001f\u001cJ\n",
      "\u0012\u0017\u0018\u001cI\n",
      "\u001e\u001bI\f\n",
      "\u0017\u0017\u0018\u001dI\u000f\u0015\"\n",
      "\u001c\u0010\u0011\u001bH\f\u0011\u0016\u0017\u001b\t\u001d\u001aH\u000b\t\u0016\u0016\u0017\u001cH\u000e\u0014!\n",
      "\u001b\u000f\u0010\u001aG\u000b\u0010\u0015\u0016\u001c\u0019G\n",
      "\u0013 \u0015\u0016\u001bG\n",
      "\u001a\u000e\u000f\u0019F\n",
      "\u000f\u0014\u0015\u0019\u0007\u001b\u0018F\t\u0007\u0014\u0014\u0015\u001aF\f\u0012\u001f\n",
      "\u000e\u0018E\t\u000e\u0013\u0014\u0018\u0006\u001a\u0017\u0006\u0013\u0013\u0014\u0019E\u000b\u0011\u001e\n",
      "\u0012\u0013\u0017\u0005\u0019\u0016D\u0007\u0005\u0012\u0012\u0013\u0018D\n",
      "\u0010\u001d\n",
      "\u0017\u000b\f\u0016C\u0007\f\u0011\u0012\u0016\u0004\u0018\u0015C\u0006\u0004\u0011\u0011\u0012\u0017C\t\u000f\u001c\n",
      "\u0016\n",
      "\u000b\u0015B\u0006\u000b\u0010\u0011\u0015\u0003\u0017\u0014B\u0005\u0003\u0010\u0010\u0011\u0016\u000e\u001b\n",
      "\u0015\t\n",
      "\u0014A\u0005\n",
      "\u001a\u0010\u0014\u0002\u0016\u0013A\u0004\u0002\u000f\u000f\u0010\u0015A\u0007\n",
      "\t\u0013@\u0004\t\u000e\u000f\u0013\u0001\u0015\u0012@\u0003\u0001\u000e\u000e\u000f\u0014@\u0006\f\u0019\n",
      "\u000e\u0013?\u0005\u000b\u0018\u0002\u0000\n",
      "\u0012>\u0004\u0010>\u0001\f\f\n",
      "\u0017\n",
      "\u0011\u0005\u0006\u0010=\u0001\u0006\u000b\f\u0010~\u0012\u000f=\u0000~\u000b\u000b\f\u0011=\u0003\t\u0016\n",
      "\u0010\u0004\u0005\u000f<\u0000\u0005\n",
      "\u000b\u000f}\u0011\u000e<}\n",
      "\n",
      "\u000b\u0010<\u0015\n",
      "\u000f\u0003\u0004\u000e;\u0004\t\n",
      ";~|\t\t\n",
      "\u000f;\u0001\u0007\u0014\n",
      "{\u000f\f:\t\u000e:\u0000\u0006\u0013\n",
      "9\u0005\u0012}\u0002\fz\u000e\u000b9|z\u0007\n",
      "\f\u0000\u0001\u000b8|\u0001\u0006\u0007\u000by\n",
      "8{y\u0006\u0006\u0007\f8~\u0004\u0011\n",
      "\u000b\u0000\n",
      "7{\u0000\u0005\u0006\n",
      "x\f\t7zx\u0005\u0005\u0006\u000b7}\u0003\u0010\n",
      "\n",
      "~\t6z\u0004\u0005\tw6yw\u0004\u0004\u0005\n",
      "6|\u0002\u000f\n",
      "\t}5y~\u0003v\n",
      "\u00075xv\u0003\u0003\u0004\t5{\u0001\u000e\n",
      "\b|}\u00074x}\u0002\u0003\u0007u\t\u00064wu\u0002\u00024z\u0000\n",
      "\u0007{|\u00063w|\u0001\u0002\u0006\u00053vt\u0001\u0001\u0002\u00073y\f\n",
      "\u0006z{\u00052v{\u0000\u0001\u0005s\u0007\u00042us\u0000\u0000\u0001\u00062x~\u000b\n",
      "\u0005yz\u00041uz\u0000\u0004r\u0006\u00031tr\u0000\u00051w}\n",
      "\n",
      "\u0004xy\u00030ty~\u0003q\u0005\u00020sq~~\u00040v|\t\n",
      "\u0003wx\u0002/sx}~\u0002p\u0004\u0001/rp}}~\u0003/u\n",
      "\u0002vw\u0001.rw|}\u0001o\u0003\u0000.qo||}\u0002.tz\u0007\n",
      "\u0001uv\u0000-qv{|\u0000n\u0002-pn{{|\u0001-sy\u0006\n",
      "\u0000tu,puz{m\u0001~,omzz{\u0000,rx\u0005\n",
      "st~+otyz~l\u0000}+nlyyz+qw\u0004\n",
      "~rs}*nsxy}k|*mkxxy~*pv\u0003\n",
      "}qr|)mrwx|j~{)ljwwx})ou\u0002\n",
      "|pq{(lqvw{i}z(kivvw|(nt\u0001\n"
     ]
    }
   ],
   "source": [
    "# n = |cipherText|\n",
    "def bruteforceCeaser(cipherText):\n",
    "    \"\"\"\n",
    "        Parameters:\n",
    "            cipherText (String): Das zu brechende Chiffrat\n",
    "    \"\"\"\n",
    "    # O(|K|)\n",
    "    for key in range(0,127):\n",
    "        guessPlainText = decrypt(cipherText,key) # O(1) da Länge von cipherText konstant ist\n",
    "        print(guessPlainText) # O(1)\n",
    "\n",
    "# Somit ist die Zeitkomplexität des Bruteforce-Algorithmus O(|K|)\n",
    "bruteforceCeaser(cipher)"
   ]
  },
  {
   "cell_type": "markdown",
   "id": "0f5d5e2f",
   "metadata": {},
   "source": [
    "### Häufigkeitsanalyse"
   ]
  },
  {
   "cell_type": "markdown",
   "id": "ebf69988",
   "metadata": {},
   "source": [
    "Es ist bekannt aus statistischen Erhebungen, welcher Buchstabe in welcher relativer Häufigkeit in der deutschen Sprache vorkommt. Buchstabenhäufigkeiten in deutschen Texten:  \n",
    "    $$E = 14,7\\%$$  \n",
    "    $$ SPACE = 12\\%$$  \n",
    "    $$N, I, S, R, A, T, D, H, U = 8,8\\%$$\n",
    "Dementsprechend kann man durch das Analysieren der relativen Häufigkeiten ziemlich gut raten,  aus welchen Buchstaben das Chiffrat hervorging. So könnte man die Häufigkeitsanalyse in Python implementieren:"
   ]
  },
  {
   "cell_type": "code",
   "execution_count": 6,
   "id": "c185b8f2",
   "metadata": {},
   "outputs": [],
   "source": [
    "text = \"DAS FOLGENDE IST EIN TEXT ZUR KRYPTOGRAPHIE IM ZWEITEN WELTKRIEG AUS WIKIPEDIA IM ZWEITEN WELTKRIEG WURDEN MECHANISCHE UND ELEKTROMECHANISCHE KRYPTOGRAPHIESYSTEME ZAHLREICH EINGESETZT AUCH WENN IN BEREICHEN WO DIES NICHT MOEGLICH WAR WEITERHIN MANUELLE SYSTEME VERWENDET WURDEN IN DIESER ZEIT WURDEN GROSSE FORTSCHRITTE IN DER MATHEMATISCHEN KRYPTOGRAPHIE GEMACHT NOTWENDIGERWEISE GESCHAH DIES JEDOCH NUR IM GEHEIMEN DIE DEUTSCHEN MACHTEN REGEN GEBRAUCH VON EINEM ALS ENIGMA BEKANNTEN SYSTEM WELCHES DURCH DAS ULTRA SYSTEM GEKNACKT WURDE\"\n",
    "cipher = encrypt(text, 6)"
   ]
  },
  {
   "cell_type": "code",
   "execution_count": 7,
   "id": "71cafe70",
   "metadata": {},
   "outputs": [],
   "source": [
    "import numpy as np\n",
    "import operator\n",
    "\n",
    "def counts(text):\n",
    "    count = {chr(i): 0 for i in range(0,128)}\n",
    "    for c in text:\n",
    "        count[c] += 1\n",
    "    return count\n",
    "\n",
    "# n = |cipherText|\n",
    "# gebe dann einfach die 3 Wahrscheinlichsten Schlüssel aus\n",
    "def frequencyAnalysisCeaser(cipherText):\n",
    "    \"\"\"\n",
    "        Parameters:\n",
    "            cipherText (String): Das zu brechende Chiffrat\n",
    "    \"\"\"\n",
    "    count = counts(cipherText) # O(n)\n",
    "    highIncidence = [] # O(1)\n",
    "    for i in range(0,3):\n",
    "        highIncidence.append(max(count, key = count.get)) # O(3*n)\n",
    "        del(count[highIncidence[-1]]) # O(3*n)\n",
    "    return [ord(i) for i in highIncidence] # O(1)\n",
    "\n",
    "# Somit ist die Zeitkomplexität der Häufigkeitsanalyse O(n)"
   ]
  },
  {
   "cell_type": "code",
   "execution_count": 8,
   "id": "29a28014",
   "metadata": {},
   "outputs": [
    {
     "name": "stdout",
     "output_type": "stream",
     "text": [
      "[75, 38, 79]\n",
      "K\n"
     ]
    }
   ],
   "source": [
    "probKeys = frequencyAnalysisCeaser(cipher)\n",
    "print(probKeys)\n",
    "print(chr(probKeys[0]))"
   ]
  },
  {
   "cell_type": "markdown",
   "id": "92e5a217",
   "metadata": {},
   "source": [
    "Dh. höchst wahrscheinlich wird das 'E' auf das 'K abgebildet'. Der Abstand zwischen diesen beiden Buchstaben ist 6 was unserem Schlüssel entspricht."
   ]
  },
  {
   "cell_type": "markdown",
   "id": "3a0cfa25",
   "metadata": {},
   "source": [
    "## 4.2 Affine Chiffre\n",
    "\n",
    "Die Affine Chiffre verwendet zusätzlich zur Addition mit einer Konstanten der Verschiebechiffre noch eine Multiplikation. Dadurch wird das Ausprobieren aller Schlüssel erschwert, da der Schlüsselraum größer ist als bei der Verschiebechiffre, allerdings nicht groß genug um eine Brute Force Attacke zu verhindern. Eine von-Hand Analyse ist aber weiterhin möglich, indem die am meisten gebrauchten Buchstaben der deutschen Sprache den am öftesten vorkommenden Symbolen des Schlüsseltextes zuordnet. Die Zuordnungen liefern ein Gleichungssystem mit zwei Unbekannten, das als Ergebnis einen Schlüsselvorschlag liefert. (VO 2.1 Folie 18)"
   ]
  },
  {
   "cell_type": "markdown",
   "id": "04ebb859",
   "metadata": {},
   "source": [
    "### 4.2.1 Auswahl des Schlüssels\n",
    "\n",
    "Als Schlüssel wird ein Paar $ K = (a,b) \\in \\mathbb{Z}^2_n $  verwendet , das $ gcd(a,n) = 1 $ erfüllen muss. Nur wenn a und n, die Länge des Alphabetes, teilerfremd sind kann das multiplikative Inverse $a⁻¹$ eindeutig bestimmt werden. Das ist notwendig, damit Bob die verschlüsselte Nachricht eindeutig entschlüsseln kann. Das multiplikative Inverses $a⁻¹$ wird mit dem erweiterten euklidischen Algorithmus berechnet. Dieser testet die Randbedingung des Schlüssels und berechnet $a⁻¹$ in $\\mathbb{Z}_n$."
   ]
  },
  {
   "cell_type": "code",
   "execution_count": 9,
   "id": "6b12e62b",
   "metadata": {},
   "outputs": [],
   "source": [
    "# Erweiterter euklidischer Algorthmus zur Berechnung des größten gemeinsamen Teilers gcd \n",
    "# und des multiplikativen Inversen x\n",
    "def egcd(a,b):\n",
    "  x,y,u,v = 0,1,1,0\n",
    "  while a != 0: \n",
    "    q,r = b//a,b%a \n",
    "    m,n = x-u*q,y-v*q \n",
    "    b,a,x,y,u,v = a,r,u,v,m,n \n",
    "  gcd = b \n",
    "  return gcd, x, y\n",
    "\n",
    "\n",
    "# Berechnet aus Schlüsselkomponente a und Länge des Alphabetes n=128 das multiplikative Inverse x_ von a in Zn\n",
    "def multinv(a,n=128): \n",
    "    gcd, x, y = egcd(a,n)\n",
    "    # multiplikatives Inverses von a existiert nur wenn gcd(a,n)=1 ist\n",
    "    if (gcd==1): \n",
    "        x_= x%n\n",
    "        return x_\n",
    "    else:\n",
    "        return None"
   ]
  },
  {
   "cell_type": "markdown",
   "id": "43fd715b",
   "metadata": {},
   "source": [
    "### 4.2.2 Ver- und Entschlüsselung\n",
    "\n",
    "Die folgenden affinen Funktionen werden zur Verschlüsselung \n",
    "$\n",
    "e_k(x) = a\\cdot_nx+_nb\n",
    "$ und Entschlüsselung $\n",
    "d_k(y) = a⁻¹\\cdot_n(y-_nb)\n",
    "$ verwendet. Beide Funktionen arbeiten buchstabenweise. \n",
    "\n",
    "Die Funktion encrypt verschlüsselt den Klartext durch Anwendung der affinen Funktion $e_k$ in den dazugehörigen Schlüsseltext. Dementsprechend erhält sie den Klartext in String Format und den Schlüssel als Eingabe und gibt den Schlüsseltext als Integer aus. Die Länge des Alphabetes n beträgt 128 was die Standardlänge des ASCII-Zeichensatzes ist. Zunächst wird überprüft, ob der verwendete Schlüssel $ K = (a,b) \\in \\mathbb{Z}^2_n $ valide ist. Dazu muss ein eindeutiges multiplikatives Inverses $a⁻¹$ existieren. Ist die Überprüfung erfolgreich, wird die Eingabe in zwei Schritten verschlüsselt. Zunächst wird die Eingabe mit der Funktion asci_to_int in Zahlen umgewandelt. Dann wird auf jeden Buchstaben x der Eingabe die affine Funktion $e_k$ angewendet und in einer Liste gespeichert. Die Elemente der Liste werden mit der Funktion int_to_asci wieder in Buchstaben umgewandelt, wodurch man den Schlüsseltext erhält. \n",
    "\n",
    "\n",
    "Die Komplexität der Funktionen int_to_asci und asci_to_int ist $\\mathcal{O}(1)$, also linearer Aufwand. Die Funktion multinv, die überprüft ob ein eindeutiges multiplikatives Inverses exisitiert, verwendet intern den erweiterten euklidischen Algorithmus egcd. Dieser benötigt für die Invertierung von $a$ in $\\mathbb{Z}_n$ eine Gesamtlaufzeit von $\\mathcal{O}(||n||²)$, also quadratisch in der Anzahl der Bits von n. (VO 2.1, Folie 17). Die Funktion multinv liegt dementsprechend ebenfalls in $\\mathcal{O}(||n||²)$. \n",
    "Ansonsten verwendet encrypt nur Operationen die lineare Zeit benötigen, die Berechnung der affinen Funktion ist nur abhängig von der konstanten Länge des Klartextes. Insgesamt hat die Verschlüsselung eines Klartextes mit der affinen Chiffre also den Zeitaufwand $\\mathcal{O}(||n||²)$.\n",
    "\n",
    "Die Entschlüsselung erfolgt mittels der Funktion decrypt. Sie bekommt den Schlüsseltext cipher und den Schlüssel key als Eingabe. Analog zur Verschlüsselungsfunktion wird der Schlüsseltext in Zahlen umgewandelt und der Schlüssel auf das eindeutige multiplikative Inverse überprüft. Nach erfolgreicher Prüfung wird die affine Funktion $d_k$ auf den Schlüsseltext $y$ angewendet, $d_k$ verwendet die Funktion multinv um das multiplikative Inverse von $a$ in $\\mathbb{Z}_n$ zu erhalten. Die Berechnung des Klartextes  erfolgt ebenfalls zeichenweise. Alle Klartextsymbole werden in einer Liste gespeichert und abschließend wieder in Buchstaben umgewandelt. Das Resultat ist der Klartext. Die Komplexität der Entschlüsselungsfunktion ist äquivalent zum Zeitaufwand der Verschlüsselung $\\mathcal{O}(||n||²)$."
   ]
  },
  {
   "cell_type": "code",
   "execution_count": 10,
   "id": "8900d9e6",
   "metadata": {},
   "outputs": [],
   "source": [
    "def encrypt(text,key):\n",
    "    n = 128\n",
    "    a = key[0]\n",
    "    b = key[1]\n",
    "    if multinv(a,n) == None:\n",
    "        print(\"Please choose another key\")\n",
    "    else:\n",
    "        text = asci_to_int(text)\n",
    "        cipher = []\n",
    "        for x in text:\n",
    "            # zeichenweise Berechnung der affinen Funktion e_k\n",
    "            y =(a*x+b)%n\n",
    "            cipher.append(y)\n",
    "        cipher = int_to_asci(cipher) \n",
    "        return cipher\n",
    "\n",
    "\n",
    "def decrypt(cipher,key):\n",
    "    n = 128\n",
    "    a = key[0]\n",
    "    b = key[1]\n",
    "    cipher = asci_to_int(cipher)\n",
    "    if multinv(a,n) == None:\n",
    "        print(\"Decryption not possible with provided key\")\n",
    "    else:\n",
    "        l = []\n",
    "        for y in cipher:\n",
    "            # zeichenweise Berechnung der affinen Funktion d_k\n",
    "            x = multinv(a,n)*(y-b)%n\n",
    "            l.append(x)\n",
    "            plaintext = int_to_asci(l)\n",
    "        return plaintext"
   ]
  },
  {
   "cell_type": "markdown",
   "id": "ecd55a4f",
   "metadata": {},
   "source": [
    "### 4.2.3 Korrektheit der Chiffre\n",
    "\n",
    "Der Schlüssel ist so gewählt, dass das multiplikative Inverse $a⁻¹$ in $\\mathbb{Z}^2_n $ eindeutig ist. Die Subtraktion ist die Umkehroperation der Addition, so dass $$d_k(e_k(x)) = d_k(a\\cdot_nx+_nb) = a⁻¹\\cdot_n((a\\cdot_nx+_nb)-_nb)= a⁻¹\\cdot_n(a\\cdot_nx) = x $$ erfüllt ist für alle Schlüssel k und alle Klartexte p."
   ]
  },
  {
   "cell_type": "markdown",
   "id": "cee91310",
   "metadata": {},
   "source": [
    "### 4.2.4 Kryptosystem\n",
    "\n",
    "Aus oben beschriebenen Funktionen ergibt sich laut Definition 1 folgendes Kryptosystem für die affine Chiffre:\n",
    "\n",
    "\n",
    "*   $P$ ist die Menge aller Klartexte über dem ASCII Zeichensatz mit $|\\Sigma|=128$\n",
    "*   $C$ ist die Menge aller Chiffretexte über dem ASCII Zeichensatz mit $|\\Sigma|=128$\n",
    "*   $K$ ist die Menge aller möglicher Schlüssel mit $|K|= \\phi(n)\\cdot n = 8192 $\n",
    "*   $e_k(x) = a\\cdot_nx+_nb$       D.h $e_k: P → C$ ist eine Funktion für jeden Schlüssel $k 𝝐 K$\n",
    "*   $d_k(y) = a⁻¹\\cdot_n(y-_nb)$   D.h $d_k: C → P$ ist eine Funktion für jeden Schlüssel $k 𝝐 K$\n",
    "\n",
    "Dabei gilt laut 4.2.3 die Korrektheit der affinen Chiffre: $∀k𝝐K.∀x𝝐P. d_k(e_k(x)) = x$."
   ]
  },
  {
   "cell_type": "markdown",
   "id": "177a5234",
   "metadata": {},
   "source": [
    "### 4.2.5 Angriffe\n",
    "\n",
    "Auf die affine Chiffre ist eine Brute Force Attacke, die alle möglichen Schlüssel erzeugt, möglich. Die abgefangene Nachricht wird der Reihe nach mit den Schlüsselkandidaten entschlüsselt. Nun liegen alle möglichen Klartexte vor, die einfach auf ihren Sinngehalt überprüft werden können. Wenn der Schlüssel $K = (a,b)$ in $\\mathbb{Z}_n$ ist, hat der Schlüsselraum $a\\cdot_n b$ viele Elemente. Zusätzlich wissen wir, das $a$ zu $n$ (Länge des Alphabetes) teilerfremd sein muss. Mit der Eulerschen $\\phi$-Funktion kann die Anzahl teilerfremder Elemente in $\\mathbb{Z}_n$ berechnet werden. Die Anzahl der zu erzeugenden Schlüssel beträgt dementsprechend $\\phi(n)\\cdot n$, da $a$ und $b$ beide aus $\\mathbb{Z}_n$ kommen. Im folgenden Beispiel wird der ASCII-Zeichensatz der Länge 128 verwendet, die Anzahl der zu erzeugenden Schlüssel beträgt $\\phi(128) \\cdot 128 = 64 \\cdot 128 = 8192$.\n",
    "\n",
    "Neben der Brute Force Attacke ist auch eine Häufigkeitsanalyse möglich, die mögliche Schlüsselkandidaten $K = (a,b)$ liefert. Die Häufigkeitsanalye bestimmt die zwei häufigsten Zeichen im Ciphertext. Diese Zeichen werden auf E und SPACE abgebildet und liefern zwei Gleichungen mit zwei Unbekannten, die einfach zu lösen sind: \n",
    "    $$(E = x1) a\\cdot_n x1 + b = y1$$  \n",
    "    $$(SPACE = x2) a\\cdot_n x2 + b = y2$$  \n",
    "\n",
    "Falls a nicht invertierbar ist, setze die die nächst häufigsten Zeichen ein. Die Häufigkeitsanalyse ist am Beispiel der Verschiebe Chiffre bereits implementiert. "
   ]
  },
  {
   "cell_type": "code",
   "execution_count": 11,
   "id": "ba7ce194",
   "metadata": {},
   "outputs": [],
   "source": [
    "from math import gcd\n",
    "\n",
    "# Eulersche phi-Funktion berechnet die Anzahl der Elemente von Zn die zu n teilerfremd sind\n",
    "def phi(n):\n",
    "    a = 1\n",
    "    sum = 0\n",
    "    l = []\n",
    "    while a <= n:\n",
    "        if gcd(a,n)==1:\n",
    "            sum += 1\n",
    "            a += 1\n",
    "        else:\n",
    "            a += 1\n",
    "    return sum\n",
    "\n",
    "# Erzeuge alle 8192 möglichen Schlüssel \n",
    "def make_keys(n=128):\n",
    "    # alle zu n teilerfremde Zahlen\n",
    "    l = [a for a in range(n) if gcd(a,n) == 1]\n",
    "    keys = []\n",
    "    for a in l:\n",
    "        for b in range(n):\n",
    "            # Kombination aller a's und b's \n",
    "            keys.append((a,b))\n",
    "    return keys"
   ]
  },
  {
   "cell_type": "code",
   "execution_count": 12,
   "id": "05f6a5f5",
   "metadata": {},
   "outputs": [
    {
     "name": "stdout",
     "output_type": "stream",
     "text": [
      "Affine Chiffre\n",
      "\n",
      "Encryption and Decryption\n",
      "\n",
      "Encrypted Text: @ls9tPs\u0016\u001d9;G2tI;\u0016\u0016\u001d@tc\n",
      "Decrypted Text: this dinosaur cannot fly\n",
      "\n",
      "Brute Force Attack\n",
      "\n",
      "Plaintext: this dinosaur cannot fly was encrypted with key: (7, 20)\n"
     ]
    }
   ],
   "source": [
    "# Code um oben definierte Funktionen zu testen\n",
    "def main():\n",
    "    print(\"Affine Chiffre\\n\")\n",
    "    # wähle eine Nachricht\n",
    "    text = 'this dinosaur cannot fly'\n",
    "    # wähle einen Schlüssel\n",
    "    key = (7, 20) \n",
    "    \n",
    "    # encryption function \n",
    "    cipher = encrypt(text, key)\n",
    "    print('Encryption and Decryption\\n')\n",
    "    print('Encrypted Text: {}'.format(cipher)) \n",
    "    # decryption function \n",
    "    print('Decrypted Text: {}'.format(decrypt(cipher, key) )) \n",
    "    # brute force attack\n",
    "    print('\\nBrute Force Attack\\n')\n",
    "    for key in make_keys():\n",
    "        # erzeuge alle möglichen klartexte\n",
    "        plaintext = decrypt(cipher, key)\n",
    "        if plaintext == text:\n",
    "            print(\"Plaintext:\",plaintext,\"was encrypted with key:\",key)\n",
    "            \n",
    "\n",
    "if __name__ == '__main__': \n",
    "  main() "
   ]
  },
  {
   "cell_type": "markdown",
   "id": "2ec5364f",
   "metadata": {},
   "source": [
    "# 4.3 Substitutionschiffre \n",
    "\n",
    "Die Substitutionschiffre erzeugt eine Permutationstabelle des Alphabets als Schlüssel und ersetzt jeden Buchstaben gemäß dieser Tabelle. Ein kurzes Beispiel: Bei einem Alphabet A B C D E F G und der zufällig erzeugten Permutation des Alphatebets K = G C E A B F D wird der Klartext 'BADE' zu 'CGAB' verschlüsselt. \n",
    "Die Substitutionschiffre ist schwerer zu brechen als die Affine Chiffre, da die Anzahl der möglichen Schlüssel zu groß ist um sie durchzuprobieren. Das heißt eine Brute Force Attacke mit dem Computer ist für mehr als 26 Buchstaben ausgeschlossen. Eine Häufigkeitsanalyse per Hand und anschließendes Füllen der Lücken ist jedoch weiterhin möglich. (VO 2.1 Folie 24 f.)"
   ]
  },
  {
   "cell_type": "markdown",
   "id": "9f767418",
   "metadata": {},
   "source": [
    "### 4.3.1 Ver- und Entschlüsselung\n",
    "\n",
    "Um die Ver- und Entschlüsselung der Substitutionschiffre mathematisch zu beschreiben, muss zunächst das verwendete Alphabet als Liste von Zahlen kodiert werden. Zum Verschlüsseln wird die Funktion $e_k(x) = \\pi(x)$ buchstabenweise auf den Klartext angewendet. Die Funktion zum Entschlüsseln ist $d_k(y) = \\pi⁻¹(y)$, wobei $\\pi$ die Permutation der Zahlen [0,...,n-1] ist, wenn n die Länge des Alphabetes ist und $\\pi⁻¹$ die inverse Entschlüsselungspermutation.\n",
    "\n",
    "Zum verschlüsseln bekommt die Funktion encrypt den Klartext und den Schlüssel übergeben. Der Schlüssel ist eine zufällige Permutation des verwendeten Alphabetes. Die Implementierung benutzt den druckbaren Zeichensatz string.printable, der 100 ASCII-Zeichen umfasst. Zunächst werden die Buchstaben des Alphabetes in Zahlen umgewandelt. Dann wird jedes Zeichen des Klartextes mit dem Zeichen das am selben Position in der Schlüsselpermutation steht ersetzt. \n",
    "\n",
    "Der Schlüsseltext wird mit der Funktion decrypt entschlüsselt, die neben dem Schlüsseltext den Schüssel übergeben bekommt. Die einzelnen Zeichen des Ciphertextes werden gemäß der Permutation key⁻¹  ersetzt. Die so erhaltene Zahlenfolge wird wieder in Buchstaben umgewandelt und ergibt den Klartext.\n",
    "\n",
    "Die Komplexität der Verschlüsselung ist $\\mathcal{O}(n)$, da das Ersetzen eines Buchstabens gemäß der Permutation als einfache Listensuche implementiert werden kann. Dasselbe gilt für die Komplexität der Entschlüsselung. \n",
    " "
   ]
  },
  {
   "cell_type": "code",
   "execution_count": 13,
   "id": "ef69607c",
   "metadata": {},
   "outputs": [],
   "source": [
    "import random\n",
    "import string\n",
    "\n",
    "def encrypt(text, key):\n",
    "    #default alphabet string.printable\n",
    "    alphabet = asci_to_int(string.printable)\n",
    "    text = asci_to_int(text)\n",
    "    #ersetze jedes Zeichen des Plaintextes durch Zeichen der Liste \"key\".\n",
    "    cipher = []\n",
    "    for x in text:\n",
    "        indx = alphabet.index(x)\n",
    "        cipher.append(key[indx])\n",
    "    cipher = int_to_asci(cipher)\n",
    "    return cipher\n",
    "\n",
    "def decrypt(cipher, key):\n",
    "    alphabet = asci_to_int(string.printable)\n",
    "    cipher = asci_to_int(cipher)\n",
    "    plaintext = []\n",
    "    for y in cipher:\n",
    "        indx = key.index(y)\n",
    "        plaintext.append(alphabet[indx])\n",
    "    plaintext = int_to_asci(plaintext)\n",
    "    return plaintext"
   ]
  },
  {
   "cell_type": "markdown",
   "id": "be5b6ffc",
   "metadata": {},
   "source": [
    "### 4.3.2 Auswahl des Schlüssels\n",
    "\n",
    "Der Schlüssel ist eine Permutation des Eingabealphabetes und hat dementsprechend dieselbe Länge n. Es gibt keine weiteren Einschränkungen an die Auswahl des Schlüssels. "
   ]
  },
  {
   "cell_type": "code",
   "execution_count": 14,
   "id": "26dc1a97",
   "metadata": {},
   "outputs": [],
   "source": [
    "# erzeugt zufällige Permutation des Alphabetes repräsentiert als Liste aus Indizes\n",
    "def make_key():\n",
    "    #default alphabet string.printable\n",
    "    key = list(string.printable)\n",
    "    random.shuffle(key)\n",
    "    key = asci_to_int(key)\n",
    "    return key"
   ]
  },
  {
   "cell_type": "code",
   "execution_count": 15,
   "id": "550c4d21",
   "metadata": {},
   "outputs": [
    {
     "name": "stdout",
     "output_type": "stream",
     "text": [
      "Substitutionschiffre\n",
      "\n",
      "Encrypted Text: O}$&s.$Z<&%|_s0%ZZ<OsU;2\n",
      "Decrypted Text: this dinosaur cannot fly\n"
     ]
    }
   ],
   "source": [
    "# Code um oben definierte Funktionen zu testen\n",
    "\n",
    "def main():\n",
    "    print(\"Substitutionschiffre\\n\")\n",
    "    # wähle eine Nachricht\n",
    "    text = 'this dinosaur cannot fly'\n",
    "    # Schlüssel wird zufällig erzeugt\n",
    "    key = make_key() \n",
    "    # encryption function \n",
    "    cipher = encrypt(text, key) \n",
    "    print('Encrypted Text: {}'.format(cipher)) \n",
    "    # decryption function \n",
    "    print('Decrypted Text: {}'.format(decrypt(cipher, key))) \n",
    "    \n",
    "if __name__ == '__main__': \n",
    "    main() "
   ]
  },
  {
   "cell_type": "markdown",
   "id": "cfb5c653",
   "metadata": {},
   "source": [
    "### 4.3.3 Korrektheit der Chiffre\n",
    "\n",
    "Die Permutation $\\pi⁻¹$ ist invers zur initalen Schlüsselpermutation $\\pi$, so dass $$d_k(e_k(x)) = d_k(\\pi(x)) = \\pi⁻¹(\\pi(x)) = x $$ erfüllt ist für alle Schlüssel k𝝐K und alle Klartexte p𝝐P."
   ]
  },
  {
   "cell_type": "markdown",
   "id": "114cb06e",
   "metadata": {},
   "source": [
    "### 4.3.4 Kryptosystem\n",
    "\n",
    "Aus oben beschriebenen Funktionen ergibt sich laut Definition 1 folgendes Kryptosystem für die Substitutionschiffre:\n",
    "\n",
    "\n",
    "*   $P$ ist die Menge aller Klartexte über dem string.printable ASCII Zeichensatz mit $|\\Sigma|=100$\n",
    "*   $C$ ist die Menge aller Chiffretexte über dem string.printable ASCII Zeichensatz mit $|\\Sigma|=100$\n",
    "*   $K$ ist die Menge aller möglicher Schlüssel mit $|K|= n! = 100! $\n",
    "*   $e_k(x) = \\pi(x)$       D.h $e_k: P → C$ ist eine Funktion für jeden Schlüssel $k 𝝐 K$\n",
    "*   $d_k(y) = \\pi⁻¹(y)$   D.h $d_k: C → P$ ist eine Funktion für jeden Schlüssel $k 𝝐 K$\n",
    "\n",
    "Dabei gilt laut 4.3.3 die Korrektheit der  Substitutionschiffre: $∀k𝝐K.∀x𝝐P. d_k(e_k(x)) = x$."
   ]
  },
  {
   "cell_type": "markdown",
   "id": "50731ded",
   "metadata": {},
   "source": [
    "### 4.3.5 Angriffe\n",
    "\n",
    "Ein Brute Force Angriff auf die Substitutionschiffre ist ab einem Alphabet mit 26 Buchstaben nicht mehr möglich, da die Anzahl der möglichen Schlüssel $n!$ beträgt. Dennoch kann die Substitutionschiffre mit einer Häufigkeitsanalyse gebrochen werden. Die Häufigkeitsanalyse ist am Beispiel der Verschiebe Chiffre bereits implementiert."
   ]
  },
  {
   "cell_type": "markdown",
   "id": "48f30364",
   "metadata": {},
   "source": [
    "## 4.4 Vigenere-Chiffre"
   ]
  },
  {
   "cell_type": "markdown",
   "id": "6f5988ea",
   "metadata": {},
   "source": [
    "Die Vigenere Chiffre ist gewissermaßen eine erweiterte Verschiebe Chiffre. Sie ist eine Blockchiffre, dh. ein Klartext wird verschlüsselt, indem in Blöcke aufgeteilt wird. Danach werden jeweils die einzelnen Blöcke verschlüsselt. Wenn die Länge des Textes nicht ein Vielfaches der Blocklänge entspricht, dann muss entsprechend aufgefüllt werden. In einem einzelnen Block wird dann jeweils eine Verschiebe Chiffre angewandt, wobei dies pro Buchstabe mit einem jeweils anderen Teilschlüssel geschieht."
   ]
  },
  {
   "cell_type": "markdown",
   "id": "2f8382e6",
   "metadata": {},
   "source": [
    "### 4.4.1  Ver- und Entschlüsselung"
   ]
  },
  {
   "cell_type": "markdown",
   "id": "da9f220a",
   "metadata": {},
   "source": [
    "Sei $m$ die Blocklänge, dann ist der Schlüsselraum der Vigeneren-Chiffre $K = ℤ_{128}^m$.\n",
    "\n",
    "Verschlüsselung: Die Buchstaben werden in die korrespondierenden Elemente aus  $ℤ_{128}$  umgewandelt. Wenn die Länge des daraus resultierenden Textes nicht ein Vielfaches von $m$ ist, dann wird entsprechen der Text aufgefüllt. Sei nun $x_1x_2...x_m$ ein Klartextblock und sei $(k_1,...,k_m) 𝝐 K$ ein Schlüssel, dieser Klartextblock wird dann mit folgender Funktion verschlüsselt:\n",
    "$e_k: ℤ_{128}^m\\rightarrow ℤ_{128}^m$ mit $e_k(x_1...x_m) = (x_1 +_n k_1,..., x_m +_n k_m)$. Danach wird das Resultat wieder in die Buchstaben umgewandelt.\n",
    "\n",
    "Entschlüsselung: Die Buchstaben werden in die korrespondierenden Elemente aus  $ℤ_{128}$  umgewandelt. Wenn die Länge des daraus resultierenden Textes nicht ein Vielfaches von $m$ ist, dann wird entsprechen der Text aufgefüllt. Sei nun $x_1x_2...x_m$ ein Klartextblock und sei $(k_1,...,k_m) 𝝐 K$ ein Schlüssel, dieser Klartextblock wird dann mit folgender Funktion entschlüsselt:\n",
    "$e_k: ℤ_{128}^m\\rightarrow ℤ_{128}^m$ mit $e_k(x_1...x_m) = (x_1 -_n k_1,..., x_m -_n k_m)$. Danach wird das Resultat wieder in die Buchstaben umgewandelt.\n"
   ]
  },
  {
   "cell_type": "markdown",
   "id": "e5291099",
   "metadata": {},
   "source": [
    "Im Folgenden sieht man die Ver- und Entschlüsselungsfunktion als Python code. Die Blocklänge ist dabei durch die Schlüssellänge bestimmt."
   ]
  },
  {
   "cell_type": "code",
   "execution_count": 16,
   "id": "3028ef13",
   "metadata": {},
   "outputs": [],
   "source": [
    "# n = |plainText|, m = |key|\n",
    "def encrypt(plainText, key):\n",
    "    \"\"\"\n",
    "        Parameters:\n",
    "            plainText (String): Der zu verschlüsselnde Klartext\n",
    "            key  (list of int): Schlüssel\n",
    "        Returns:\n",
    "            int_to_asci(chipherText) (string): plainText verschlüsselt\n",
    "    \"\"\"\n",
    "    n = 128 # O(1)\n",
    "    plainText = asci_to_int(plainText) # O(n)\n",
    "    cipherText = [] # O(1)\n",
    "\n",
    "    quantityBlock = len(plainText) // len(key) # O(n)\n",
    "    if(len(plainText) != quantityBlock * len(key)): # O(1)\n",
    "        rest = len(plainText) - quantityBlock * len(key) # O(1)\n",
    "        toFill = len(key) - rest # O(1)\n",
    "        # O(m)\n",
    "        for i in range(0, toFill):\n",
    "            plainText.append(46)\n",
    "\n",
    "    # O(n)\n",
    "    for l in range(0,len(plainText)):    # in welchen Block wir uns befinden\n",
    "        k_i = l % len(key) # welche Schüsseln wir verwenden müssen innhalb eines Blockes # O(1)\n",
    "        cipherText.append((plainText[l] + key[k_i]) % n) # O(1)\n",
    "    return int_to_asci(cipherText) # O(n)\n",
    "\n",
    "# Somit beträgt die Zeitkomplexität der Verschlüsselung O(n+m), wenn man das Auffüllen vernachlässigt dann sogar nur O(n)\n",
    "\n",
    "def decrypt(cipherText, key):\n",
    "    \"\"\"\n",
    "        Parameters:\n",
    "            plainText (String): das zu entschlüsselte Chiffrat\n",
    "            key  (list of int): Schlüssel\n",
    "        Returns:\n",
    "            int_to_asci(plainText) (string): cipherText entschlüsselt\n",
    "    \"\"\"\n",
    "    n = 128 # O(1)\n",
    "    cipherText = asci_to_int(cipherText) # O(n)\n",
    "    plainText = [] # O(1)\n",
    "    # O(n)\n",
    "    for l in range(0,len(cipherText)):\n",
    "        k_i = l % len(key) # O(1)\n",
    "        plainText.append((cipherText[l] - key[k_i]) % n) # O(1)\n",
    "    return int_to_asci(plainText) # O(n)\n",
    "# Damit ist die Zeitkomplexität der Entschlüsselung O(n)"
   ]
  },
  {
   "cell_type": "markdown",
   "id": "f8179ee9",
   "metadata": {},
   "source": [
    "Hier sehen sie eine kleine interaktive Anwendung, sie können sich einen Schlüssel aussuchen und damit einen beliebigen Text verschlüsseln und wieder entschlüseln:"
   ]
  },
  {
   "cell_type": "code",
   "execution_count": 17,
   "id": "2a0a1088",
   "metadata": {},
   "outputs": [
    {
     "name": "stdout",
     "output_type": "stream",
     "text": [
      "ujlt\"gjprtcxs\"fbpqpv#gn|\n",
      "this dinosaur cannot fly\n"
     ]
    }
   ],
   "source": [
    "text = 'this dinosaur cannot fly'\n",
    "cipher = encrypt(text,[1,2,3])\n",
    "plaintext = decrypt(cipher,[1,2,3])\n",
    "\n",
    "print(cipher)\n",
    "print(plaintext)"
   ]
  },
  {
   "cell_type": "markdown",
   "id": "5061aef0",
   "metadata": {},
   "source": [
    "### 4.4.2 Auswahl des Schlüssels"
   ]
  },
  {
   "cell_type": "markdown",
   "id": "fd760c49",
   "metadata": {},
   "source": [
    "Es gibt keine Einschränkungen bei der Auswahl des Schlüssels, da $(ℤ_n,+_n)$ eine abelsche Gruppe ist. Somit gibt es für jeden Teilschlüssel ein inverses bezgl. $+_n$."
   ]
  },
  {
   "cell_type": "markdown",
   "id": "1f68d74c",
   "metadata": {},
   "source": [
    "### 4.4.3 Korrektheit der Chiffre"
   ]
  },
  {
   "cell_type": "markdown",
   "id": "b2ff9579",
   "metadata": {},
   "source": [
    "Zeige das gilt: $\\forall x 𝝐 ℤ_{128}^m. \\forall k 𝝐 ℤ_{128}^m.e_k(d_k(x))=x$:\n",
    "Sei $x=(x_1,...,x_m)𝝐 ℤ_{128}^m$ und $k=(k_1,...,k_m)𝝐 ℤ_{128}^m$ bel. $\\Rightarrow$ $d_k(e_k((x_1,...,x_m)))= d_k((x_1+_n k_1,...,x_m+_n k_m)) = (x_1+_n k_1 -_n k_1,...,x_m+_n k_m -_n k_m) = (x_1,...,x_m) = x$  $q.e.d$"
   ]
  },
  {
   "cell_type": "markdown",
   "id": "af56f628",
   "metadata": {},
   "source": [
    "### 4.4.4 Kryptosystem"
   ]
  },
  {
   "cell_type": "markdown",
   "id": "8bf5ba22",
   "metadata": {},
   "source": [
    "Daraus ergibt sich dann folgendes Kryptosystem:\n",
    "$(P,C,ℤ_{128}^m, e_k, d_k)$ wobei P und C alle Wörter über das Alphabet $\\Sigma =$ ASCII-Zeichensatz sind."
   ]
  },
  {
   "cell_type": "markdown",
   "id": "7ab7d3c6",
   "metadata": {},
   "source": [
    "### 4.4.5 Angriffe auf das Kryptosystem"
   ]
  },
  {
   "cell_type": "markdown",
   "id": "0c197762",
   "metadata": {},
   "source": [
    "### Bruteforce"
   ]
  },
  {
   "cell_type": "code",
   "execution_count": 18,
   "id": "61e5f44d",
   "metadata": {},
   "outputs": [],
   "source": [
    "def cartesianProduct(X,Y):\n",
    "    \"\"\"\n",
    "        Berechnet das Kartesische Produkt von zwei Listen\n",
    "        \n",
    "        Parameters:\n",
    "            X (List): erster Faktor\n",
    "            Y (List): zweiter Faktor\n",
    "        Returns:\n",
    "            retVal (List): das Karteische Proukt von X und Y\n",
    "    \"\"\"\n",
    "    retVal = [] # O(1)\n",
    "    # O(n)\n",
    "    for x in X:\n",
    "        # O(1) Da der ASCII Zeichensatz konstant Lang ist\n",
    "        for y in Y:\n",
    "            retVal.append(x + y)\n",
    "    return retVal"
   ]
  },
  {
   "cell_type": "code",
   "execution_count": 19,
   "id": "5d37221b",
   "metadata": {},
   "outputs": [],
   "source": [
    "plaintext = \"DAS FOLGENDE IST EIN TEXT ZUR KRYPTOGRAPHIE IM ZWEITEN WELTKRIEG AUS WIKIPEDIA IM ZWEITEN WELTKRIEG WURDEN MECHANISCHE UND ELEKTROMECHANISCHE KRYPTOGRAPHIESYSTEME ZAHLREICH EINGESETZT AUCH WENN IN BEREICHEN WO DIES NICHT MOEGLICH WAR WEITERHIN MANUELLE SYSTEME VERWENDET WURDEN IN DIESER ZEIT WURDEN GROSSE FORTSCHRITTE IN DER MATHEMATISCHEN KRYPTOGRAPHIE GEMACHT NOTWENDIGERWEISE GESCHAH DIES JEDOCH NUR IM GEHEIMEN DIE DEUTSCHEN MACHTEN REGEN GEBRAUCH VON EINEM ALS ENIGMA BEKANNTEN SYSTEM WELCHES DURCH DAS ULTRA SYSTEM GEKNACKT WURDE\"\n",
    "cipher = encrypt(text, [75, 82, 89, 80, 84, 79])"
   ]
  },
  {
   "cell_type": "code",
   "execution_count": 20,
   "id": "0b567ff2",
   "metadata": {},
   "outputs": [],
   "source": [
    "# Probiere jeden möglichen Schlüssel aus. Dh. es gibt 128**m mögliche Schlüssel wobei m die Blocklänge ist\n",
    "# es muss jede Blockgröße primitv probiert werden\n",
    "# n = |cipherText|\n",
    "import copy as cp\n",
    "\n",
    "def bruteforceVigenere(cipherText, m):\n",
    "    \"\"\"\n",
    "        Parameters:\n",
    "            cipherText (string): das zu brechende Chiffrat\n",
    "            m             (int): Blocklänge\n",
    "        Returns:\n",
    "            True: Wenn cipherText erfolgreich entschlüsselt wurde\n",
    "    \"\"\"\n",
    "    n = 128 # O(1)\n",
    "    asci_values = [] # O(1)\n",
    "    \n",
    "    #erzeuge alle möglichen Schlüssel\n",
    "    # O(1) da der ASCII Zeichensatz konstant Lang ist\n",
    "    for i in range(0,128):\n",
    "        asci_values.append([i])\n",
    "        \n",
    "    guessKeys = cp.deepcopy(asci_values) # O(1)\n",
    "    \n",
    "    # O(n)\n",
    "    for b in range(0,m - 1):\n",
    "        guessKeys = cartesianProduct(guessKeys, asci_values)\n",
    "    \n",
    "    # O(128**m)\n",
    "    for key in guessKeys:\n",
    "        if decrypt(cipherText,key) == plaintext:\n",
    "            return True\n",
    "# Damit ist die Zeitkompelxität des Bruteforceangriffes O(n + 128**m), also exponentiell in der Blocklänge."
   ]
  },
  {
   "cell_type": "code",
   "execution_count": 21,
   "id": "594479a2",
   "metadata": {},
   "outputs": [],
   "source": [
    "# Es ist dringend davon abzuraten diesen Codesegment zu interpretieren, da dies nicht mehr für den Computer handhabbar ist\n",
    "# bitte nutzen Sie einen kleineren Schlüssel. (m <= 3)\n",
    "bruteforceVigenere(cipher, 6)"
   ]
  },
  {
   "cell_type": "markdown",
   "id": "ba0cd6a8",
   "metadata": {},
   "source": [
    "### Koinzidenzanalyse"
   ]
  },
  {
   "cell_type": "markdown",
   "id": "40a72338",
   "metadata": {},
   "source": [
    "Die Koinzidenz Analyse nutzt die Wahrscheinlichkeitsrechnung. Dabei fragen wir uns: ,, Wie wahrscheinlich ist es,\n",
    "dass zwei beliebige Symbole in einem Text gleich sind?\". Es werden nun ein paar Formalitäten eingeführt:"
   ]
  },
  {
   "cell_type": "markdown",
   "id": "9b5315cf",
   "metadata": {},
   "source": [
    "$p_i$ ist die Wahrscheinlichkeit, dass ein Symbol eines Textes der i-te Buchstabe ist (Werte sind aus dem Beutelspacher entnommen). $\\newline$\n",
    "Sei $\\Omega = \\Sigma \\times \\Sigma$ unser Ereignisraum. $\\newline$\n",
    "Und sei $X: \\Omega \\rightarrow \\mathbb{R}$ eine Zufallsvariable mit der Abbildungsvorschrift $X((a,b)) =\n",
    "\\left\\{\n",
    "\t\\begin{array}{ll}\n",
    "\t\t1  & \\mbox{wenn } a = b \\\\\n",
    "\t\t0 & \\mbox{sonst}\n",
    "\t\\end{array}\n",
    "\\right. \\newline$\n",
    "\n",
    "Dabei gilt im deutschen für den Erwartungswert: $\\mathbb{E}[X]= \\sum_{i = 0}^{26} p_i^2 =0.0762$"
   ]
  },
  {
   "cell_type": "markdown",
   "id": "fdf0ae46",
   "metadata": {},
   "source": [
    "$f_i^w$ ist die Häufigkeit des $i$-ten Symbols in $w$\n",
    "\n",
    "Die Koinzidenzanlyse funktioniert nun folgendermaßen: Berechne $ \\sum_{i = 0}^{26} (p_i \\cdot f_{i+k}^v)/|v| $ für jeden Schlüssel $k𝝐ℤ_{26}$ und alle Teilworte $v$. \n",
    "Die Teilwörter sind dabei folgendermaßen aufgebaut: Sei ,,DETGAFASE\" ein Chiffrat und die Blocklänge gleich drei. Dann besteht das erste Teilwort aus den ersten Elementen eines Blockes, also ,,DGA\". Das zweite Teilwort dann aus den zweiten Elementen eines Blockes, also ,,EAS\" usw. "
   ]
  },
  {
   "cell_type": "markdown",
   "id": "a92fbbcd",
   "metadata": {},
   "source": [
    "Da wir keine statistischen Erhebungen vorliegen haben, für den ASCII Zeichensatz ist für den Angriff vorrausgestzt das $\\Sigma$ (worüber $P$ und $C$ konstruiert sind) nur aus Großbuchstaben besteht von A-Z, somit musste nochmal die Ver- und Entschlüsselungsfunktion etwas umgeschrieben werden. Dieser Angriff sieht dann in Pythoncode folgendermaßen aus:"
   ]
  },
  {
   "cell_type": "code",
   "execution_count": null,
   "id": "4783b84d",
   "metadata": {},
   "outputs": [],
   "source": [
    "dic = {'A': 0,'B': 1,'C': 2,'D': 3,'E': 4,'F': 5,'G': 6,'H': 7,'I': 8,'J': 9,'K': 10,'L': 11,'M': 12,'N': 13,'O': 14,'P': 15,'Q': 16,'R': 17,'S': 18,'T': 19,'U': 20,'V': 21,'W': 22,'X': 23,'Y': 24,'Z':25, ' ': 26}\n",
    "rev_dic = {v: k for k, v in dic.items()}\n",
    "\n",
    "def asci_to_int(text):\n",
    "    return [dic[i] for i in text]\n",
    "\n",
    "def int_to_asci(numbers):\n",
    "    return [rev_dic[i] for i in numbers]"
   ]
  },
  {
   "cell_type": "code",
   "execution_count": null,
   "id": "71ad2fb4",
   "metadata": {},
   "outputs": [],
   "source": [
    "def encrypt(plainText, key):\n",
    "    n = 27\n",
    "    plainText = asci_to_int(plainText)\n",
    "    cipherText = []\n",
    "\n",
    "    quantityBlock = len(plainText) // len(key)\n",
    "    if(len(plainText) != quantityBlock * len(key)):\n",
    "        rest = len(plainText) - quantityBlock * len(key)\n",
    "        toFill = len(key) - rest\n",
    "        for i in range(0, toFill):\n",
    "            plainText.append(46)\n",
    "\n",
    "    for l in range(0,len(plainText)):    # in welchen Block wir uns befinden\n",
    "        k_i = l % len(key) # welche Schüsseln wir verwenden müssen innhalb eines Blockes\n",
    "        cipherText.append((plainText[l] + key[k_i]) % n)\n",
    "    return int_to_asci(cipherText)\n",
    "\n",
    "def decrypt(cipherText, key):\n",
    "    n = 27\n",
    "    cipherText = asci_to_int(cipherText)\n",
    "    plainText = []\n",
    "    \n",
    "    for l in range(0,len(cipherText)):\n",
    "        k_i = l % len(key) \n",
    "        plainText.append((cipherText[l] - key[k_i]) % n)\n",
    "    return int_to_asci(plainText)"
   ]
  },
  {
   "cell_type": "markdown",
   "id": "6daabb5b",
   "metadata": {},
   "source": [
    "Hier sehen Sie dann die Koinzidenzanalyse anhand eines Beispiels. Gerne können Sie sich ein bisschen ausprobieren."
   ]
  },
  {
   "cell_type": "code",
   "execution_count": null,
   "id": "a2880b90",
   "metadata": {},
   "outputs": [],
   "source": [
    "text = \"DAS FOLGENDE IST EIN TEXT ZUR KRYPTOGRAPHIE IM ZWEITEN WELTKRIEG AUS WIKIPEDIA IM ZWEITEN WELTKRIEG WURDEN MECHANISCHE UND ELEKTROMECHANISCHE KRYPTOGRAPHIESYSTEME ZAHLREICH EINGESETZT AUCH WENN IN BEREICHEN WO DIES NICHT MOEGLICH WAR WEITERHIN MANUELLE SYSTEME VERWENDET WURDEN IN DIESER ZEIT WURDEN GROSSE FORTSCHRITTE IN DER MATHEMATISCHEN KRYPTOGRAPHIE GEMACHT NOTWENDIGERWEISE GESCHAH DIES JEDOCH NUR IM GEHEIMEN DIE DEUTSCHEN MACHTEN REGEN GEBRAUCH VON EINEM ALS ENIGMA BEKANNTEN SYSTEM WELCHES DURCH DAS ULTRA SYSTEM GEKNACKT WURDE\"\n",
    "cipher = encrypt(text, asci_to_int(\"KRYPTO\"))"
   ]
  },
  {
   "cell_type": "code",
   "execution_count": null,
   "id": "0d8c04e9",
   "metadata": {},
   "outputs": [],
   "source": [
    "keys = {0: 0.0651, 1: 0.0189, 2: 0.0306, 3: 0.0508, 4: 0.1740, 5: 0.0166, 6: 0.0301, 7: 0.0476, 8: 0.0755, 9: 0.0027, 10: 0.0121, 11: 0.0344, 12: 0.0253, 13: 0.0978, 14: 0.0251, 15: 0.0079, 16: 0.0002, 17: 0.07, 18: 0.0727, 19: 0.0615, 20: 0.0435, 21: 0.0067, 22: 0.0189, 23: 0.0003, 24: 0.0004, 25: 0.0113, 26: 0}\n",
    "\n",
    "# m ist die Blocklänge\n",
    "# n = |cipherText|\n",
    "def coincidenceAnalysisVigenere(cipherText, m):\n",
    "    \"\"\"\n",
    "        Parameters:\n",
    "            cipherText (string): das zu brechende Chiffrat\n",
    "            m (int): die Blocklänge\n",
    "        Returns:\n",
    "            possibleKey (List): der wahrscheinliste Schlüssel bei der gegebenen Blocklänge m\n",
    "    \"\"\"\n",
    "    expectedValueGerman = 0.0762 # O(1)\n",
    "    possibleKey = [] # O(1)\n",
    "    frequency = dict() # O(1)\n",
    "    cipherText = asci_to_int(cipherText) # O(n)\n",
    "    wordlength = len(cipherText) // m # O(n)\n",
    "    # O(1) Da keys konstant ist\n",
    "    for k in keys:\n",
    "        frequency[k] = [0 for x in range(0,m)]\n",
    "    \n",
    "    # O(m * n)\n",
    "    for i in range(0,m):\n",
    "        indices = [x for x in range(0,len(cipherText)) if x % m == i]\n",
    "        for j in indices:\n",
    "            frequency[cipherText[j]][i] += 1\n",
    "    \n",
    "    # O(m) Da keys konstant ist\n",
    "    for i in range(0,m):\n",
    "        bestKey = 0\n",
    "        bestExpectedValue = 0\n",
    "        for k in keys:\n",
    "            expectedValueCipher = 0\n",
    "            for j in keys:\n",
    "                expectedValueCipher += (keys[j] * frequency[(j + k) % 27][i]) / wordlength\n",
    "            if abs(expectedValueCipher - expectedValueGerman) < abs(bestExpectedValue - expectedValueGerman):\n",
    "                bestKey = k\n",
    "                bestExpectedValue = expectedValueCipher\n",
    "        possibleKey.append(bestKey)\n",
    "        \n",
    "    return possibleKey\n",
    "# Die Zeitkompelxität des Koinzidenzangriffes ist O(m+m*n)"
   ]
  },
  {
   "cell_type": "code",
   "execution_count": null,
   "id": "f2bde57c",
   "metadata": {},
   "outputs": [
    {
     "name": "stdout",
     "output_type": "stream",
     "text": [
      "['K', 'R', 'Y', 'P', 'T', 'O']\n"
     ]
    }
   ],
   "source": [
    "print(int_to_asci(coincidenceAnalysisVigenere(cipher, 6)))"
   ]
  },
  {
   "cell_type": "markdown",
   "id": "0be5dd6d",
   "metadata": {},
   "source": [
    "Wie zu sehen ist, ist es vorrausgesetzt das man Kenntnis über die Blocklänge besitzt. Dies kann man durch einen bspw. mit einem Kasiskitest bestimmen.\n",
    "\n",
    "Quelle der Häufigkeitstabelle:  Albrecht Beutelspacher: Kryptologie. 7. Auflage. Vieweg Verlagsgesellschaft, Wiesbaden 2005, ISBN 3-8348-0014-7, Seite 10."
   ]
  },
  {
   "cell_type": "markdown",
   "id": "73e865e5",
   "metadata": {},
   "source": [
    "## 5. Zusammenfassung und Ausblick\n",
    "\n",
    "Die Projektarbeit hat die Komplexität vier historischer Chiffren anhand ihrer Python Implementierung untersucht. Die vier Chiffren sind chronologisch nacheinander entwickelt worden und greifen jeweils Ideen der Vorgänger auf. \n",
    "\n",
    "Die Verschiebechiffre ist die einfachste Chiffre, die dementsprechend auch am leichtesten zu brechen ist da sie den kleinsten Schlüsselraum hat. Die Affine Chiffre führt durch eine Multiplikation zusätzliche Komplexität ein, so dass der Brute Force Angriff zwar länger dauert, aber immer noch möglich ist. Die Substitutionschiffre ist durch einen Brute Force Angriff ab einem Alphabet mit einer Länge über 26 Buchstaben schon nicht mehr zu brechen. Eine von-Hand-Analyse durch Häufigkeiten von Buchstaben in der deutschen Sprache ist aber weiterhin möglich. Auch die Vigenere Chiffre ist nicht sicher. Bei einer Blockgröße von 8 und der Verwendung von 62 Symbolen beträgt die Anzahl der möglichen Schlüssel schon 62⁸ = 2.2 * 10¹⁴, d.h eine Brute Force Attacke ist ab diesen Werten unmöglich. Die Vigenere Chiffre lässt sich mithilfe von Kasiski Test und Koinzidenzanalyse brechen. "
   ]
  },
  {
   "cell_type": "markdown",
   "id": "b70e6e39",
   "metadata": {},
   "source": [
    "## 6. Quellen \n",
    "\n",
    "Die Quellen sind im Fließtext angegeben. Das Kürzel (VO 2.1 Folie 18) steht für die Vorlesungsfolien von Prof. Christoph Kreitz im Modul \"Kryptographie\", das im WS 2021/22 an der Uni Potsdam stattgefunden hat. Die Folien sind unter folgendem Link zu finden: https://www.cs.uni-potsdam.de/ti/lehre/06-Kryptographie/inhalt.html.\n",
    "\n",
    "\n",
    "\n"
   ]
  }
 ],
 "metadata": {
  "kernelspec": {
   "display_name": "Python 3.10.6 64-bit",
   "language": "python",
   "name": "python3"
  },
  "language_info": {
   "codemirror_mode": {
    "name": "ipython",
    "version": 3
   },
   "file_extension": ".py",
   "mimetype": "text/x-python",
   "name": "python",
   "nbconvert_exporter": "python",
   "pygments_lexer": "ipython3",
   "version": "3.10.6"
  },
  "vscode": {
   "interpreter": {
    "hash": "916dbcbb3f70747c44a77c7bcd40155683ae19c65e1c03b4aa3499c5328201f1"
   }
  }
 },
 "nbformat": 4,
 "nbformat_minor": 5
}
